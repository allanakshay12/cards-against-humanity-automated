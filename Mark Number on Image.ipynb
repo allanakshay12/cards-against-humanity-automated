{
 "cells": [
  {
   "cell_type": "code",
   "execution_count": 1,
   "metadata": {},
   "outputs": [],
   "source": [
    "import numpy as np\n",
    "import cv2\n",
    "import os\n",
    "import sys\n",
    "from os import path"
   ]
  },
  {
   "cell_type": "code",
   "execution_count": 5,
   "metadata": {},
   "outputs": [],
   "source": [
    "answers_path = \".\\\\Answers\"\n",
    "new_path = \".\\\\New_Answers\"\n",
    "if not path.exists(new_path):\n",
    "    os.mkdir(new_path)\n",
    "image_counter=1\n",
    "for files in os.walk(answers_path):\n",
    "        for file in files[2]:\n",
    "            image = cv2.imread(answers_path + \"\\\\\" + file,cv2.IMREAD_UNCHANGED)\n",
    "            position = (750, 900)\n",
    "            cv2.putText(image, str(image_counter), position, cv2.FONT_HERSHEY_SIMPLEX, 3, (0, 0, 255, 255), 7)\n",
    "            iswritten = cv2.imwrite(new_path + \"\\\\page_\" + str(image_counter) + \".jpg\", image)\n",
    "            image_counter = image_counter + 1;"
   ]
  },
  {
   "cell_type": "code",
   "execution_count": null,
   "metadata": {},
   "outputs": [],
   "source": []
  }
 ],
 "metadata": {
  "kernelspec": {
   "display_name": "Python 3",
   "language": "python",
   "name": "python3"
  },
  "language_info": {
   "codemirror_mode": {
    "name": "ipython",
    "version": 3
   },
   "file_extension": ".py",
   "mimetype": "text/x-python",
   "name": "python",
   "nbconvert_exporter": "python",
   "pygments_lexer": "ipython3",
   "version": "3.8.3"
  }
 },
 "nbformat": 4,
 "nbformat_minor": 4
}
